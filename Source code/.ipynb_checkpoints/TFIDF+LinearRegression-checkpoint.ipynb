{
 "cells": [
  {
   "cell_type": "code",
   "execution_count": 2,
   "metadata": {},
   "outputs": [],
   "source": [
    "# -*- coding: utf-8 -*-\n",
    "import pandas as pd  \n",
    "import numpy as np\n",
    "import matplotlib.pyplot as plt\n",
    "import os, os.path\n",
    "#from src import *\n",
    "import preprocessing_data as prep\n",
    "import emoji_reducer\n",
    "import operator\n",
    "\n",
    "plt.style.use('fivethirtyeight')\n",
    "\n",
    "%matplotlib inline\n",
    "%config InlineBackend.figure_format = 'retina'"
   ]
  },
  {
   "cell_type": "code",
   "execution_count": 3,
   "metadata": {},
   "outputs": [],
   "source": [
    "#Initialize path of working folder\n",
    "path = r\"D:\\1.UIT\\Nam 4\\Hoc ky 2\\Khai thac du lieu truyen thong xa hoi - IE403.K21\\3. Implementing\"\n",
    "data_path = os.path.join(data_dir, \"data\") #path to source data folder\n",
    "train_path = os.path.join(data_dir, \"train_nor_811\" + \".\" + \"xlsx\")\n",
    "test_path = os.path.join(data_dir, \"test_nor_811\" + \".\" + \"xlsx\")\n",
    "valid_path = os.path.join(data_dir, \"valid_nor_811\" + \".\" + \"xlsx\")"
   ]
  },
  {
   "cell_type": "code",
   "execution_count": 4,
   "metadata": {},
   "outputs": [],
   "source": [
    "train_df = pd.read_excel(train_path, encoding=\"ISO-8859-1\")\n",
    "valid_df = pd.read_excel(valid_path, encoding=\"ISO-8859-1\")\n",
    "test_df = pd.read_excel(test_path, encoding=\"ISO-8859-1\")"
   ]
  },
  {
   "cell_type": "markdown",
   "metadata": {},
   "source": [
    "Word Statistic of raw data"
   ]
  },
  {
   "cell_type": "code",
   "execution_count": null,
   "metadata": {},
   "outputs": [],
   "source": [
    "all_data = pd.concat([train_df.Sentence,test_df.Sentence,valid_df.Sentence])\n",
    "data_statistic = prep.Statistics(all_data)\n",
    "#data_statistic.head()\n",
    "#data_statistic.to_excel(r\"./output/statistics/Raw Data Statistics.xlsx\")"
   ]
  },
  {
   "cell_type": "code",
   "execution_count": null,
   "metadata": {},
   "outputs": [],
   "source": [
    "train_reduced = emoji_reducer.ReduceEmoji(train_df)\n",
    "valid_reduced = emoji_reducer.ReduceEmoji(valid_df)\n",
    "test_reduced = emoji_reducer.ReduceEmoji(test_df)"
   ]
  },
  {
   "cell_type": "markdown",
   "metadata": {},
   "source": [
    "Word Statistic of reduced emoji data"
   ]
  },
  {
   "cell_type": "code",
   "execution_count": null,
   "metadata": {},
   "outputs": [],
   "source": [
    "all_reduced_data = pd.concat([train_reduced.Sentence,valid_reduced.Sentence,test_reduced.Sentence])\n",
    "reduced_data_statistic = prep.Statistics(all_reduced_data)\n",
    "#reduced_data_statistic.head()\n",
    "#reduced_data_statistic.to_excel(r\"./output/statistics/Reduced Emoji Data Statistic.xlsx\""
   ]
  },
  {
   "cell_type": "code",
   "execution_count": null,
   "metadata": {},
   "outputs": [],
   "source": [
    "train_spelling = spelling_correction.SpellingCorrection(train_df)\n",
    "valid_spelling = spelling_correction.SpellingCorrection(valid_df)\n",
    "test_spelling = spelling_correction.SpellingCorrection(test_df)"
   ]
  },
  {
   "cell_type": "markdown",
   "metadata": {},
   "source": [
    "Word Statistic of reduced emoji data"
   ]
  },
  {
   "cell_type": "code",
   "execution_count": null,
   "metadata": {},
   "outputs": [],
   "source": [
    "all_reduced_data = pd.concat([train_reduced.Sentence,valid_reduced.Sentence,test_reduced.Sentence])\n",
    "reduced_data_statistic = prep.Statistics(all_reduced_data)\n",
    "#reduced_data_statistic.head()\n",
    "#reduced_data_statistic.to_excel(r\"./output/statistics/Reduced Emoji Data Statistic.xlsx\""
   ]
  },
  {
   "cell_type": "code",
   "execution_count": 5,
   "metadata": {},
   "outputs": [],
   "source": [
    "train_cleaned = prep.Preprocessing(train_df)\n",
    "valid_cleaned = prep.Preprocessing(valid_df)\n",
    "test_cleaned = prep.Preprocessing(test_df)"
   ]
  },
  {
   "cell_type": "code",
   "execution_count": null,
   "metadata": {},
   "outputs": [],
   "source": [
    "all_data = pd.concat([train_df.Sentence,test_df.Sentence,valid_df.Sentence])"
   ]
  },
  {
   "cell_type": "code",
   "execution_count": 6,
   "metadata": {},
   "outputs": [],
   "source": [
    "x_train = train_cleaned.Sentence\n",
    "y_train = train_cleaned.Emotion\n",
    "x_validation = valid_cleaned.Sentence\n",
    "y_validation = valid_cleaned.Emotion\n",
    "x_test = test_cleaned.Sentence\n",
    "y_test = test_cleaned.Emotion"
   ]
  },
  {
   "cell_type": "code",
   "execution_count": 6,
   "metadata": {},
   "outputs": [],
   "source": [
    "from sklearn.feature_extraction.text import CountVectorizer\n",
    "from sklearn.metrics import accuracy_score\n",
    "from sklearn.linear_model import LogisticRegression\n",
    "from sklearn.pipeline import Pipeline\n",
    "from time import time"
   ]
  },
  {
   "cell_type": "code",
   "execution_count": 7,
   "metadata": {},
   "outputs": [],
   "source": [
    "def CountMax(y_test):\n",
    "\n",
    "    emp_dict = {}\n",
    "\n",
    "    for label in y_test:\n",
    "        if label not in emp_dict:\n",
    "            emp_dict[label] = 1\n",
    "        else:\n",
    "            emp_dict[label] += 1\n",
    "    max_label = max(emp_dict.items(), key=operator.itemgetter(1))[0]\n",
    "    return max_label"
   ]
  },
  {
   "cell_type": "code",
   "execution_count": 8,
   "metadata": {},
   "outputs": [],
   "source": [
    "def accuracy_summary(pipeline, x_train, y_train, x_test, y_test):\n",
    "    max_label = CountMax(y_test)\n",
    "    null_accuracy = len(x_test[y_test == max_label]) / (len(x_test)*1.)\n",
    "    t0 = time()\n",
    "    sentiment_fit = pipeline.fit(x_train, y_train)\n",
    "    y_pred = sentiment_fit.predict(x_test)\n",
    "    train_test_time = time() - t0\n",
    "    accuracy = accuracy_score(y_test, y_pred)\n",
    "    print(\"null accuracy: {0:.2f}%\".format(null_accuracy*100))\n",
    "    print(\"accuracy score: {0:.2f}%\".format(accuracy*100))\n",
    "    if accuracy > null_accuracy:\n",
    "        print(\"model is {0:.2f}% more accurate than null accuracy\".format((accuracy-null_accuracy)*100))\n",
    "    elif accuracy == null_accuracy:\n",
    "        print(\"model has the same accuracy with the null accuracy\")\n",
    "    else:\n",
    "        print(\"model is {0:.2f}% less accurate than null accuracy\".format((null_accuracy-accuracy)*100))\n",
    "    print(\"train and test time: {0:.2f}s\".format(train_test_time))\n",
    "    print(\"-\"*80)\n",
    "    return accuracy, train_test_time"
   ]
  },
  {
   "cell_type": "code",
   "execution_count": 9,
   "metadata": {},
   "outputs": [],
   "source": [
    "cvec = CountVectorizer()\n",
    "lr = LogisticRegression(max_iter=200)\n",
    "n_features = np.arange(3200,4100,100)\n",
    "\n",
    "def nfeature_accuracy_checker(vectorizer=cvec, n_features=n_features, stop_words=None, ngram_range=(1, 1), classifier=lr):\n",
    "    result = []\n",
    "    #print(classifier)\n",
    "    #print(\"\\n\")\n",
    "    for n in n_features:\n",
    "        vectorizer.set_params(stop_words=stop_words, max_features=n, ngram_range=ngram_range)\n",
    "        checker_pipeline = Pipeline([\n",
    "            ('vectorizer', vectorizer),\n",
    "            ('classifier', classifier)\n",
    "        ])\n",
    "        print(\"Validation result for {} features\".format(n))\n",
    "        nfeature_accuracy,tt_time = accuracy_summary(checker_pipeline, x_train, y_train, x_validation, y_validation)\n",
    "        result.append((n,nfeature_accuracy,tt_time))\n",
    "    return result"
   ]
  },
  {
   "cell_type": "code",
   "execution_count": 10,
   "metadata": {},
   "outputs": [],
   "source": [
    "from sklearn.feature_extraction.text import TfidfVectorizer\n",
    "tvec = TfidfVectorizer()"
   ]
  },
  {
   "cell_type": "code",
   "execution_count": 11,
   "metadata": {},
   "outputs": [
    {
     "name": "stdout",
     "output_type": "stream",
     "text": [
      "RESULT FOR UNIGRAM WITH STOP WORDS (Tfidf)\n",
      "\n",
      "Validation result for 3200 features\n",
      "null accuracy: 31.20%\n",
      "accuracy score: 54.08%\n",
      "model is 22.89% more accurate than null accuracy\n",
      "train and test time: 2.44s\n",
      "--------------------------------------------------------------------------------\n",
      "Validation result for 3300 features\n",
      "null accuracy: 31.20%\n",
      "accuracy score: 54.23%\n",
      "model is 23.03% more accurate than null accuracy\n",
      "train and test time: 1.96s\n",
      "--------------------------------------------------------------------------------\n",
      "Validation result for 3400 features\n",
      "null accuracy: 31.20%\n",
      "accuracy score: 54.08%\n",
      "model is 22.89% more accurate than null accuracy\n",
      "train and test time: 1.59s\n",
      "--------------------------------------------------------------------------------\n",
      "Validation result for 3500 features\n",
      "null accuracy: 31.20%\n",
      "accuracy score: 54.23%\n",
      "model is 23.03% more accurate than null accuracy\n",
      "train and test time: 1.89s\n",
      "--------------------------------------------------------------------------------\n",
      "Validation result for 3600 features\n",
      "null accuracy: 31.20%\n",
      "accuracy score: 54.37%\n",
      "model is 23.18% more accurate than null accuracy\n",
      "train and test time: 1.76s\n",
      "--------------------------------------------------------------------------------\n",
      "Validation result for 3700 features\n",
      "null accuracy: 31.20%\n",
      "accuracy score: 54.37%\n",
      "model is 23.18% more accurate than null accuracy\n",
      "train and test time: 2.83s\n",
      "--------------------------------------------------------------------------------\n",
      "Validation result for 3800 features\n",
      "null accuracy: 31.20%\n",
      "accuracy score: 54.37%\n",
      "model is 23.18% more accurate than null accuracy\n",
      "train and test time: 1.16s\n",
      "--------------------------------------------------------------------------------\n",
      "Validation result for 3900 features\n",
      "null accuracy: 31.20%\n",
      "accuracy score: 54.66%\n",
      "model is 23.47% more accurate than null accuracy\n",
      "train and test time: 2.01s\n",
      "--------------------------------------------------------------------------------\n",
      "Validation result for 4000 features\n",
      "null accuracy: 31.20%\n",
      "accuracy score: 54.37%\n",
      "model is 23.18% more accurate than null accuracy\n",
      "train and test time: 1.74s\n",
      "--------------------------------------------------------------------------------\n",
      "Wall time: 17.4 s\n"
     ]
    }
   ],
   "source": [
    "%%time\n",
    "print(\"RESULT FOR UNIGRAM WITH STOP WORDS (Tfidf)\\n\")\n",
    "feature_result_ugt = nfeature_accuracy_checker(vectorizer=tvec)"
   ]
  },
  {
   "cell_type": "code",
   "execution_count": 12,
   "metadata": {},
   "outputs": [
    {
     "name": "stdout",
     "output_type": "stream",
     "text": [
      "RESULT FOR BIGRAM WITH STOP WORDS (Tfidf)\n",
      "\n",
      "Validation result for 3200 features\n",
      "null accuracy: 31.20%\n",
      "accuracy score: 54.52%\n",
      "model is 23.32% more accurate than null accuracy\n",
      "train and test time: 2.22s\n",
      "--------------------------------------------------------------------------------\n",
      "Validation result for 3300 features\n",
      "null accuracy: 31.20%\n",
      "accuracy score: 55.10%\n",
      "model is 23.91% more accurate than null accuracy\n",
      "train and test time: 2.41s\n",
      "--------------------------------------------------------------------------------\n",
      "Validation result for 3400 features\n",
      "null accuracy: 31.20%\n",
      "accuracy score: 54.52%\n",
      "model is 23.32% more accurate than null accuracy\n",
      "train and test time: 2.16s\n",
      "--------------------------------------------------------------------------------\n",
      "Validation result for 3500 features\n",
      "null accuracy: 31.20%\n",
      "accuracy score: 54.37%\n",
      "model is 23.18% more accurate than null accuracy\n",
      "train and test time: 2.16s\n",
      "--------------------------------------------------------------------------------\n",
      "Validation result for 3600 features\n",
      "null accuracy: 31.20%\n",
      "accuracy score: 54.81%\n",
      "model is 23.62% more accurate than null accuracy\n",
      "train and test time: 2.26s\n",
      "--------------------------------------------------------------------------------\n",
      "Validation result for 3700 features\n",
      "null accuracy: 31.20%\n",
      "accuracy score: 55.25%\n",
      "model is 24.05% more accurate than null accuracy\n",
      "train and test time: 2.47s\n",
      "--------------------------------------------------------------------------------\n",
      "Validation result for 3800 features\n",
      "null accuracy: 31.20%\n",
      "accuracy score: 55.25%\n",
      "model is 24.05% more accurate than null accuracy\n",
      "train and test time: 2.22s\n",
      "--------------------------------------------------------------------------------\n",
      "Validation result for 3900 features\n",
      "null accuracy: 31.20%\n",
      "accuracy score: 54.52%\n",
      "model is 23.32% more accurate than null accuracy\n",
      "train and test time: 2.07s\n",
      "--------------------------------------------------------------------------------\n",
      "Validation result for 4000 features\n",
      "null accuracy: 31.20%\n",
      "accuracy score: 54.96%\n",
      "model is 23.76% more accurate than null accuracy\n",
      "train and test time: 2.61s\n",
      "--------------------------------------------------------------------------------\n",
      "Wall time: 20.6 s\n"
     ]
    }
   ],
   "source": [
    "%%time\n",
    "print(\"RESULT FOR BIGRAM WITH STOP WORDS (Tfidf)\\n\")\n",
    "feature_result_bgt = nfeature_accuracy_checker(vectorizer=tvec,ngram_range=(1, 2))"
   ]
  },
  {
   "cell_type": "code",
   "execution_count": 13,
   "metadata": {},
   "outputs": [
    {
     "name": "stdout",
     "output_type": "stream",
     "text": [
      "RESULT FOR TRIGRAM WITH STOP WORDS (Tfidf)\n",
      "\n",
      "Validation result for 3200 features\n",
      "null accuracy: 31.20%\n",
      "accuracy score: 54.08%\n",
      "model is 22.89% more accurate than null accuracy\n",
      "train and test time: 2.42s\n",
      "--------------------------------------------------------------------------------\n",
      "Validation result for 3300 features\n",
      "null accuracy: 31.20%\n",
      "accuracy score: 54.66%\n",
      "model is 23.47% more accurate than null accuracy\n",
      "train and test time: 3.46s\n",
      "--------------------------------------------------------------------------------\n",
      "Validation result for 3400 features\n",
      "null accuracy: 31.20%\n",
      "accuracy score: 55.25%\n",
      "model is 24.05% more accurate than null accuracy\n",
      "train and test time: 2.71s\n",
      "--------------------------------------------------------------------------------\n",
      "Validation result for 3500 features\n",
      "null accuracy: 31.20%\n",
      "accuracy score: 54.81%\n",
      "model is 23.62% more accurate than null accuracy\n",
      "train and test time: 2.55s\n",
      "--------------------------------------------------------------------------------\n",
      "Validation result for 3600 features\n",
      "null accuracy: 31.20%\n",
      "accuracy score: 54.81%\n",
      "model is 23.62% more accurate than null accuracy\n",
      "train and test time: 3.17s\n",
      "--------------------------------------------------------------------------------\n",
      "Validation result for 3700 features\n",
      "null accuracy: 31.20%\n",
      "accuracy score: 54.37%\n",
      "model is 23.18% more accurate than null accuracy\n",
      "train and test time: 2.62s\n",
      "--------------------------------------------------------------------------------\n",
      "Validation result for 3800 features\n",
      "null accuracy: 31.20%\n",
      "accuracy score: 54.37%\n",
      "model is 23.18% more accurate than null accuracy\n",
      "train and test time: 2.63s\n",
      "--------------------------------------------------------------------------------\n",
      "Validation result for 3900 features\n",
      "null accuracy: 31.20%\n",
      "accuracy score: 54.52%\n",
      "model is 23.32% more accurate than null accuracy\n",
      "train and test time: 2.60s\n",
      "--------------------------------------------------------------------------------\n",
      "Validation result for 4000 features\n",
      "null accuracy: 31.20%\n",
      "accuracy score: 54.37%\n",
      "model is 23.18% more accurate than null accuracy\n",
      "train and test time: 2.97s\n",
      "--------------------------------------------------------------------------------\n",
      "Wall time: 25.2 s\n"
     ]
    }
   ],
   "source": [
    "%%time\n",
    "print(\"RESULT FOR TRIGRAM WITH STOP WORDS (Tfidf)\\n\")\n",
    "feature_result_tgt = nfeature_accuracy_checker(vectorizer=tvec,ngram_range=(1, 3))"
   ]
  },
  {
   "cell_type": "code",
   "execution_count": 14,
   "metadata": {},
   "outputs": [
    {
     "name": "stdout",
     "output_type": "stream",
     "text": [
      "Validation result for 3200 features\n",
      "null accuracy: 31.20%\n",
      "accuracy score: 54.96%\n",
      "model is 23.76% more accurate than null accuracy\n",
      "train and test time: 1.98s\n",
      "--------------------------------------------------------------------------------\n",
      "Validation result for 3300 features\n",
      "null accuracy: 31.20%\n",
      "accuracy score: 55.54%\n",
      "model is 24.34% more accurate than null accuracy\n",
      "train and test time: 2.47s\n",
      "--------------------------------------------------------------------------------\n",
      "Validation result for 3400 features\n",
      "null accuracy: 31.20%\n",
      "accuracy score: 55.69%\n",
      "model is 24.49% more accurate than null accuracy\n",
      "train and test time: 2.67s\n",
      "--------------------------------------------------------------------------------\n",
      "Validation result for 3500 features\n",
      "null accuracy: 31.20%\n",
      "accuracy score: 55.69%\n",
      "model is 24.49% more accurate than null accuracy\n",
      "train and test time: 2.19s\n",
      "--------------------------------------------------------------------------------\n",
      "Validation result for 3600 features\n",
      "null accuracy: 31.20%\n",
      "accuracy score: 55.54%\n",
      "model is 24.34% more accurate than null accuracy\n",
      "train and test time: 2.74s\n",
      "--------------------------------------------------------------------------------\n",
      "Validation result for 3700 features\n",
      "null accuracy: 31.20%\n",
      "accuracy score: 55.25%\n",
      "model is 24.05% more accurate than null accuracy\n",
      "train and test time: 2.61s\n",
      "--------------------------------------------------------------------------------\n",
      "Validation result for 3800 features\n",
      "null accuracy: 31.20%\n",
      "accuracy score: 55.25%\n",
      "model is 24.05% more accurate than null accuracy\n",
      "train and test time: 2.44s\n",
      "--------------------------------------------------------------------------------\n",
      "Validation result for 3900 features\n",
      "null accuracy: 31.20%\n",
      "accuracy score: 55.10%\n",
      "model is 23.91% more accurate than null accuracy\n",
      "train and test time: 2.49s\n",
      "--------------------------------------------------------------------------------\n",
      "Validation result for 4000 features\n",
      "null accuracy: 31.20%\n",
      "accuracy score: 55.54%\n",
      "model is 24.34% more accurate than null accuracy\n",
      "train and test time: 2.26s\n",
      "--------------------------------------------------------------------------------\n",
      "Validation result for 3200 features\n",
      "null accuracy: 31.20%\n",
      "accuracy score: 53.50%\n",
      "model is 22.30% more accurate than null accuracy\n",
      "train and test time: 2.69s\n",
      "--------------------------------------------------------------------------------\n",
      "Validation result for 3300 features\n",
      "null accuracy: 31.20%\n",
      "accuracy score: 54.08%\n",
      "model is 22.89% more accurate than null accuracy\n",
      "train and test time: 2.87s\n",
      "--------------------------------------------------------------------------------\n",
      "Validation result for 3400 features\n",
      "null accuracy: 31.20%\n",
      "accuracy score: 54.08%\n",
      "model is 22.89% more accurate than null accuracy\n",
      "train and test time: 3.27s\n",
      "--------------------------------------------------------------------------------\n",
      "Validation result for 3500 features\n",
      "null accuracy: 31.20%\n",
      "accuracy score: 54.23%\n",
      "model is 23.03% more accurate than null accuracy\n",
      "train and test time: 2.46s\n",
      "--------------------------------------------------------------------------------\n",
      "Validation result for 3600 features\n",
      "null accuracy: 31.20%\n",
      "accuracy score: 53.79%\n",
      "model is 22.59% more accurate than null accuracy\n",
      "train and test time: 2.68s\n",
      "--------------------------------------------------------------------------------\n",
      "Validation result for 3700 features\n",
      "null accuracy: 31.20%\n",
      "accuracy score: 53.79%\n",
      "model is 22.59% more accurate than null accuracy\n",
      "train and test time: 2.46s\n",
      "--------------------------------------------------------------------------------\n",
      "Validation result for 3800 features\n",
      "null accuracy: 31.20%\n",
      "accuracy score: 53.79%\n",
      "model is 22.59% more accurate than null accuracy\n",
      "train and test time: 3.09s\n",
      "--------------------------------------------------------------------------------\n",
      "Validation result for 3900 features\n",
      "null accuracy: 31.20%\n",
      "accuracy score: 53.64%\n",
      "model is 22.45% more accurate than null accuracy\n",
      "train and test time: 2.54s\n",
      "--------------------------------------------------------------------------------\n",
      "Validation result for 4000 features\n",
      "null accuracy: 31.20%\n",
      "accuracy score: 53.79%\n",
      "model is 22.59% more accurate than null accuracy\n",
      "train and test time: 2.80s\n",
      "--------------------------------------------------------------------------------\n",
      "Validation result for 3200 features\n",
      "null accuracy: 31.20%\n",
      "accuracy score: 54.08%\n",
      "model is 22.89% more accurate than null accuracy\n",
      "train and test time: 2.92s\n",
      "--------------------------------------------------------------------------------\n",
      "Validation result for 3300 features\n",
      "null accuracy: 31.20%\n",
      "accuracy score: 53.79%\n",
      "model is 22.59% more accurate than null accuracy\n",
      "train and test time: 3.33s\n",
      "--------------------------------------------------------------------------------\n",
      "Validation result for 3400 features\n",
      "null accuracy: 31.20%\n",
      "accuracy score: 53.94%\n",
      "model is 22.74% more accurate than null accuracy\n",
      "train and test time: 3.15s\n",
      "--------------------------------------------------------------------------------\n",
      "Validation result for 3500 features\n",
      "null accuracy: 31.20%\n",
      "accuracy score: 53.79%\n",
      "model is 22.59% more accurate than null accuracy\n",
      "train and test time: 3.21s\n",
      "--------------------------------------------------------------------------------\n",
      "Validation result for 3600 features\n",
      "null accuracy: 31.20%\n",
      "accuracy score: 53.50%\n",
      "model is 22.30% more accurate than null accuracy\n",
      "train and test time: 3.10s\n",
      "--------------------------------------------------------------------------------\n",
      "Validation result for 3700 features\n",
      "null accuracy: 31.20%\n",
      "accuracy score: 53.50%\n",
      "model is 22.30% more accurate than null accuracy\n",
      "train and test time: 3.37s\n",
      "--------------------------------------------------------------------------------\n",
      "Validation result for 3800 features\n",
      "null accuracy: 31.20%\n",
      "accuracy score: 53.79%\n",
      "model is 22.59% more accurate than null accuracy\n",
      "train and test time: 3.41s\n",
      "--------------------------------------------------------------------------------\n",
      "Validation result for 3900 features\n",
      "null accuracy: 31.20%\n",
      "accuracy score: 53.35%\n",
      "model is 22.16% more accurate than null accuracy\n",
      "train and test time: 3.13s\n",
      "--------------------------------------------------------------------------------\n",
      "Validation result for 4000 features\n",
      "null accuracy: 31.20%\n",
      "accuracy score: 53.94%\n",
      "model is 22.74% more accurate than null accuracy\n",
      "train and test time: 3.29s\n",
      "--------------------------------------------------------------------------------\n"
     ]
    },
    {
     "data": {
      "text/plain": [
       "<matplotlib.legend.Legend at 0x1ee44cfca58>"
      ]
     },
     "execution_count": 14,
     "metadata": {},
     "output_type": "execute_result"
    },
    {
     "data": {
      "image/png": "[encoded data removed]",
      "text/plain": [
       "<Figure size 576x432 with 1 Axes>"
      ]
     },
     "metadata": {
      "image/png": {
       "height": 386,
       "width": 563
      },
      "needs_background": "light"
     },
     "output_type": "display_data"
    }
   ],
   "source": [
    "feature_result_ug = nfeature_accuracy_checker(vectorizer=cvec)\n",
    "feature_result_bg = nfeature_accuracy_checker(vectorizer=cvec,ngram_range=(1, 2))\n",
    "feature_result_tg = nfeature_accuracy_checker(vectorizer=cvec,ngram_range=(1, 3))\n",
    "nfeatures_plot_tg = pd.DataFrame(feature_result_tg,columns=['nfeatures','validation_accuracy','train_test_time'])\n",
    "nfeatures_plot_bg = pd.DataFrame(feature_result_bg,columns=['nfeatures','validation_accuracy','train_test_time'])\n",
    "nfeatures_plot_ug = pd.DataFrame(feature_result_ug,columns=['nfeatures','validation_accuracy','train_test_time'])\n",
    "\n",
    "nfeatures_plot_tgt = pd.DataFrame(feature_result_tgt,columns=['nfeatures','validation_accuracy','train_test_time'])\n",
    "nfeatures_plot_bgt = pd.DataFrame(feature_result_bgt,columns=['nfeatures','validation_accuracy','train_test_time'])\n",
    "nfeatures_plot_ugt = pd.DataFrame(feature_result_ugt,columns=['nfeatures','validation_accuracy','train_test_time'])\n",
    "\n",
    "plt.figure(figsize=(8,6))\n",
    "plt.plot(nfeatures_plot_tgt.nfeatures, nfeatures_plot_tgt.validation_accuracy,label='trigram tfidf vectorizer',color='royalblue')\n",
    "plt.plot(nfeatures_plot_tg.nfeatures, nfeatures_plot_tg.validation_accuracy,label='trigram count vectorizer',linestyle=':', color='royalblue')\n",
    "plt.plot(nfeatures_plot_bgt.nfeatures, nfeatures_plot_bgt.validation_accuracy,label='bigram tfidf vectorizer',color='orangered')\n",
    "plt.plot(nfeatures_plot_bg.nfeatures, nfeatures_plot_bg.validation_accuracy,label='bigram count vectorizer',linestyle=':',color='orangered')\n",
    "plt.plot(nfeatures_plot_ugt.nfeatures, nfeatures_plot_ugt.validation_accuracy, label='unigram tfidf vectorizer',color='gold')\n",
    "plt.plot(nfeatures_plot_ug.nfeatures, nfeatures_plot_ug.validation_accuracy, label='unigram count vectorizer',linestyle=':',color='gold')\n",
    "plt.title(\"N-gram(1~3) test result : Accuracy\")\n",
    "plt.xlabel(\"Number of features\")\n",
    "plt.ylabel(\"Validation set accuracy\")\n",
    "plt.legend()"
   ]
  },
  {
   "cell_type": "code",
   "execution_count": 27,
   "metadata": {},
   "outputs": [],
   "source": [
    "from sklearn.neighbors import KNeighborsClassifier\n",
    "from sklearn.tree import DecisionTreeClassifier\n",
    "from sklearn.svm import LinearSVC\n",
    "from sklearn.ensemble import RandomForestClassifier, AdaBoostClassifier\n",
    "from sklearn.naive_bayes import MultinomialNB, BernoulliNB\n",
    "from sklearn.linear_model import RidgeClassifier\n",
    "from sklearn.linear_model import PassiveAggressiveClassifier\n",
    "from sklearn.linear_model import Perceptron\n",
    "from sklearn.neighbors import NearestCentroid\n",
    "from sklearn.feature_selection import SelectFromModel\n",
    "\n",
    "names = [\"Logistic Regression\", \"Linear SVC\", \"LinearSVC with L1-based feature selection\",\"Multinomial NB\", \n",
    "         \"Bernoulli NB\", \"Ridge Classifier\", \"AdaBoost\", \"Perceptron\",\"Passive-Aggresive\", \"Nearest Centroid\"]\n",
    "classifiers = [\n",
    "    LogisticRegression(max_iter=200),\n",
    "    LinearSVC(),\n",
    "    Pipeline([\n",
    "  ('feature_selection', SelectFromModel(LinearSVC(penalty=\"l1\", dual=False))),\n",
    "  ('classification', LinearSVC(penalty=\"l2\"))]),\n",
    "    MultinomialNB(),\n",
    "    BernoulliNB(),\n",
    "    RidgeClassifier(),\n",
    "    AdaBoostClassifier(),\n",
    "    Perceptron(),\n",
    "    PassiveAggressiveClassifier(),\n",
    "    NearestCentroid()\n",
    "    ]\n",
    "zipped_clf = zip(names,classifiers)"
   ]
  },
  {
   "cell_type": "code",
   "execution_count": 28,
   "metadata": {},
   "outputs": [],
   "source": [
    "tvec = TfidfVectorizer()\n",
    "def classifier_comparator(vectorizer=tvec, n_features=3600, stop_words=None, ngram_range=(1, 1), classifier=zipped_clf):\n",
    "    result = []\n",
    "    vectorizer.set_params(stop_words=stop_words, max_features=n_features, ngram_range=ngram_range)\n",
    "    for n,c in classifier:\n",
    "        checker_pipeline = Pipeline([\n",
    "            ('vectorizer', vectorizer),\n",
    "            ('classifier', c)\n",
    "        ])\n",
    "        print(\"Validation result for {}\".format(n))\n",
    "        print(c)\n",
    "        clf_accuracy,tt_time = accuracy_summary(checker_pipeline, x_train, y_train, x_validation, y_validation)\n",
    "        result.append((n,clf_accuracy,tt_time))\n",
    "    return result"
   ]
  },
  {
   "cell_type": "code",
   "execution_count": 30,
   "metadata": {},
   "outputs": [
    {
     "name": "stdout",
     "output_type": "stream",
     "text": [
      "Validation result for Logistic Regression\n",
      "LogisticRegression(C=1.0, class_weight=None, dual=False, fit_intercept=True,\n",
      "                   intercept_scaling=1, l1_ratio=None, max_iter=200,\n",
      "                   multi_class='auto', n_jobs=None, penalty='l2',\n",
      "                   random_state=None, solver='lbfgs', tol=0.0001, verbose=0,\n",
      "                   warm_start=False)\n",
      "null accuracy: 31.20%\n",
      "accuracy score: 57.43%\n",
      "model is 26.24% more accurate than null accuracy\n",
      "train and test time: 2.75s\n",
      "--------------------------------------------------------------------------------\n",
      "Validation result for Linear SVC\n",
      "LinearSVC(C=1.0, class_weight=None, dual=True, fit_intercept=True,\n",
      "          intercept_scaling=1, loss='squared_hinge', max_iter=1000,\n",
      "          multi_class='ovr', penalty='l2', random_state=None, tol=0.0001,\n",
      "          verbose=0)\n",
      "null accuracy: 31.20%\n",
      "accuracy score: 56.85%\n",
      "model is 25.66% more accurate than null accuracy\n",
      "train and test time: 1.36s\n",
      "--------------------------------------------------------------------------------\n",
      "Validation result for LinearSVC with L1-based feature selection\n",
      "Pipeline(memory=None,\n",
      "         steps=[('feature_selection',\n",
      "                 SelectFromModel(estimator=LinearSVC(C=1.0, class_weight=None,\n",
      "                                                     dual=False,\n",
      "                                                     fit_intercept=True,\n",
      "                                                     intercept_scaling=1,\n",
      "                                                     loss='squared_hinge',\n",
      "                                                     max_iter=1000,\n",
      "                                                     multi_class='ovr',\n",
      "                                                     penalty='l1',\n",
      "                                                     random_state=None,\n",
      "                                                     tol=0.0001, verbose=0),\n",
      "                                 max_features=None, norm_order=1, prefit=False,\n",
      "                                 threshold=None)),\n",
      "                ('classification',\n",
      "                 LinearSVC(C=1.0, class_weight=None, dual=True,\n",
      "                           fit_intercept=True, intercept_scaling=1,\n",
      "                           loss='squared_hinge', max_iter=1000,\n",
      "                           multi_class='ovr', penalty='l2', random_state=None,\n",
      "                           tol=0.0001, verbose=0))],\n",
      "         verbose=False)\n",
      "null accuracy: 31.20%\n",
      "accuracy score: 57.14%\n",
      "model is 25.95% more accurate than null accuracy\n",
      "train and test time: 2.96s\n",
      "--------------------------------------------------------------------------------\n",
      "Validation result for Multinomial NB\n",
      "MultinomialNB(alpha=1.0, class_prior=None, fit_prior=True)\n",
      "null accuracy: 31.20%\n",
      "accuracy score: 53.21%\n",
      "model is 22.01% more accurate than null accuracy\n",
      "train and test time: 1.12s\n",
      "--------------------------------------------------------------------------------\n",
      "Validation result for Bernoulli NB\n",
      "BernoulliNB(alpha=1.0, binarize=0.0, class_prior=None, fit_prior=True)\n",
      "null accuracy: 31.20%\n",
      "accuracy score: 51.46%\n",
      "model is 20.26% more accurate than null accuracy\n",
      "train and test time: 1.11s\n",
      "--------------------------------------------------------------------------------\n",
      "Validation result for Ridge Classifier\n",
      "RidgeClassifier(alpha=1.0, class_weight=None, copy_X=True, fit_intercept=True,\n",
      "                max_iter=None, normalize=False, random_state=None,\n",
      "                solver='auto', tol=0.001)\n",
      "null accuracy: 31.20%\n",
      "accuracy score: 57.73%\n",
      "model is 26.53% more accurate than null accuracy\n",
      "train and test time: 1.32s\n",
      "--------------------------------------------------------------------------------\n",
      "Validation result for AdaBoost\n",
      "AdaBoostClassifier(algorithm='SAMME.R', base_estimator=None, learning_rate=1.0,\n",
      "                   n_estimators=50, random_state=None)\n",
      "null accuracy: 31.20%\n",
      "accuracy score: 39.50%\n",
      "model is 8.31% more accurate than null accuracy\n",
      "train and test time: 2.92s\n",
      "--------------------------------------------------------------------------------\n",
      "Validation result for Perceptron\n",
      "Perceptron(alpha=0.0001, class_weight=None, early_stopping=False, eta0=1.0,\n",
      "           fit_intercept=True, max_iter=1000, n_iter_no_change=5, n_jobs=None,\n",
      "           penalty=None, random_state=0, shuffle=True, tol=0.001,\n",
      "           validation_fraction=0.1, verbose=0, warm_start=False)\n",
      "null accuracy: 31.20%\n",
      "accuracy score: 50.87%\n",
      "model is 19.68% more accurate than null accuracy\n",
      "train and test time: 1.31s\n",
      "--------------------------------------------------------------------------------\n",
      "Validation result for Passive-Aggresive\n",
      "PassiveAggressiveClassifier(C=1.0, average=False, class_weight=None,\n",
      "                            early_stopping=False, fit_intercept=True,\n",
      "                            loss='hinge', max_iter=1000, n_iter_no_change=5,\n",
      "                            n_jobs=None, random_state=None, shuffle=True,\n",
      "                            tol=0.001, validation_fraction=0.1, verbose=0,\n",
      "                            warm_start=False)\n",
      "null accuracy: 31.20%\n",
      "accuracy score: 50.58%\n",
      "model is 19.39% more accurate than null accuracy\n",
      "train and test time: 1.42s\n",
      "--------------------------------------------------------------------------------\n",
      "Validation result for Nearest Centroid\n",
      "NearestCentroid(metric='euclidean', shrink_threshold=None)\n",
      "null accuracy: 31.20%\n",
      "accuracy score: 51.17%\n",
      "model is 19.97% more accurate than null accuracy\n",
      "train and test time: 1.10s\n",
      "--------------------------------------------------------------------------------\n",
      "Wall time: 17.5 s\n"
     ]
    }
   ],
   "source": [
    "%%time\n",
    "trigram_result = classifier_comparator(n_features=3600,ngram_range=(1,3))"
   ]
  },
  {
   "cell_type": "code",
   "execution_count": 31,
   "metadata": {},
   "outputs": [
    {
     "name": "stdout",
     "output_type": "stream",
     "text": [
      "Validation result for Logistic Regression\n",
      "LogisticRegression(C=1.0, class_weight=None, dual=False, fit_intercept=True,\n",
      "                   intercept_scaling=1, l1_ratio=None, max_iter=100,\n",
      "                   multi_class='auto', n_jobs=None, penalty='l2',\n",
      "                   random_state=None, solver='lbfgs', tol=0.0001, verbose=0,\n",
      "                   warm_start=False)\n",
      "null accuracy: 31.20%\n",
      "accuracy score: 57.43%\n",
      "model is 26.24% more accurate than null accuracy\n",
      "train and test time: 2.58s\n",
      "--------------------------------------------------------------------------------\n",
      "Validation result for Linear SVC\n",
      "LinearSVC(C=1.0, class_weight=None, dual=True, fit_intercept=True,\n",
      "          intercept_scaling=1, loss='squared_hinge', max_iter=1000,\n",
      "          multi_class='ovr', penalty='l2', random_state=None, tol=0.0001,\n",
      "          verbose=0)\n",
      "null accuracy: 31.20%\n",
      "accuracy score: 56.71%\n",
      "model is 25.51% more accurate than null accuracy\n",
      "train and test time: 1.44s\n",
      "--------------------------------------------------------------------------------\n",
      "Validation result for Multinomial NB\n",
      "MultinomialNB(alpha=1.0, class_prior=None, fit_prior=True)\n",
      "null accuracy: 31.20%\n",
      "accuracy score: 52.62%\n",
      "model is 21.43% more accurate than null accuracy\n",
      "train and test time: 1.11s\n",
      "--------------------------------------------------------------------------------\n",
      "Validation result for Ridge Classifier\n",
      "RidgeClassifier(alpha=1.0, class_weight=None, copy_X=True, fit_intercept=True,\n",
      "                max_iter=None, normalize=False, random_state=None,\n",
      "                solver='auto', tol=0.001)\n",
      "null accuracy: 31.20%\n",
      "accuracy score: 57.58%\n",
      "model is 26.38% more accurate than null accuracy\n",
      "train and test time: 1.29s\n",
      "--------------------------------------------------------------------------------\n",
      "Validation result for Passive Aggresive Classifier\n",
      "PassiveAggressiveClassifier(C=1.0, average=False, class_weight=None,\n",
      "                            early_stopping=False, fit_intercept=True,\n",
      "                            loss='hinge', max_iter=1000, n_iter_no_change=5,\n",
      "                            n_jobs=None, random_state=None, shuffle=True,\n",
      "                            tol=0.001, validation_fraction=0.1, verbose=0,\n",
      "                            warm_start=False)\n",
      "null accuracy: 31.20%\n",
      "accuracy score: 52.19%\n",
      "model is 20.99% more accurate than null accuracy\n",
      "train and test time: 1.32s\n",
      "--------------------------------------------------------------------------------\n",
      "Validation result for Ensemble\n",
      "VotingClassifier(estimators=[('lr',\n",
      "                              LogisticRegression(C=1.0, class_weight=None,\n",
      "                                                 dual=False, fit_intercept=True,\n",
      "                                                 intercept_scaling=1,\n",
      "                                                 l1_ratio=None, max_iter=100,\n",
      "                                                 multi_class='auto',\n",
      "                                                 n_jobs=None, penalty='l2',\n",
      "                                                 random_state=None,\n",
      "                                                 solver='lbfgs', tol=0.0001,\n",
      "                                                 verbose=0, warm_start=False)),\n",
      "                             ('svc',\n",
      "                              LinearSVC(C=1.0, class_weight=None, dual=True,\n",
      "                                        fit_intercept=True, intercep...\n",
      "                                              random_state=None, solver='auto',\n",
      "                                              tol=0.001)),\n",
      "                             ('pac',\n",
      "                              PassiveAggressiveClassifier(C=1.0, average=False,\n",
      "                                                          class_weight=None,\n",
      "                                                          early_stopping=False,\n",
      "                                                          fit_intercept=True,\n",
      "                                                          loss='hinge',\n",
      "                                                          max_iter=1000,\n",
      "                                                          n_iter_no_change=5,\n",
      "                                                          n_jobs=None,\n",
      "                                                          random_state=None,\n",
      "                                                          shuffle=True,\n",
      "                                                          tol=0.001,\n",
      "                                                          validation_fraction=0.1,\n",
      "                                                          verbose=0,\n",
      "                                                          warm_start=False))],\n",
      "                 flatten_transform=True, n_jobs=None, voting='hard',\n",
      "                 weights=None)\n",
      "null accuracy: 31.20%\n",
      "accuracy score: 57.29%\n",
      "model is 26.09% more accurate than null accuracy\n",
      "train and test time: 3.27s\n",
      "--------------------------------------------------------------------------------\n"
     ]
    }
   ],
   "source": [
    "from sklearn.ensemble import VotingClassifier\n",
    "\n",
    "clf1 = LogisticRegression()\n",
    "clf2 = LinearSVC()\n",
    "clf3 = MultinomialNB()\n",
    "clf4 = RidgeClassifier()\n",
    "clf5 = PassiveAggressiveClassifier()\n",
    "\n",
    "eclf = VotingClassifier(estimators=[('lr', clf1), ('svc', clf2), ('mnb', clf3), ('rcs', clf4), ('pac', clf5)], voting='hard')\n",
    "\n",
    "for clf, label in zip([clf1, clf2, clf3, clf4, clf5, eclf], ['Logistic Regression', 'Linear SVC', 'Multinomial NB', 'Ridge Classifier', 'Passive Aggresive Classifier', 'Ensemble']):\n",
    "    checker_pipeline = Pipeline([\n",
    "            ('vectorizer', TfidfVectorizer(max_features=4500,ngram_range=(1, 3))),\n",
    "            ('classifier', clf)\n",
    "        ])\n",
    "    print(\"Validation result for {}\".format(label))\n",
    "    print(clf)\n",
    "    clf_accuracy,tt_time = accuracy_summary(checker_pipeline, x_train, y_train, x_validation, y_validation)"
   ]
  },
  {
   "cell_type": "code",
   "execution_count": 389,
   "metadata": {},
   "outputs": [
    {
     "name": "stdout",
     "output_type": "stream",
     "text": [
      "Train set has total 5541 entries with 18.93% negative, 5.56% positive\n",
      "Validation set has total 693 entries with 16.88% negative, 7.07% positive\n",
      "Test set has total 693 entries with 18.04% negative, 5.48% positive\n"
     ]
    }
   ],
   "source": [
    "print(\"Train set has total {0} entries with {1:.2f}% negative, {2:.2f}% positive\".format(len(x_train),\n",
    "                                                                             (len(x_train[y_train == 0]) / (len(x_train)*1.))*100,\n",
    "                                                                            (len(x_train[y_train == 1]) / (len(x_train)*1.))*100))\n",
    "print(\"Validation set has total {0} entries with {1:.2f}% negative, {2:.2f}% positive\".format(len(x_validation),\n",
    "                                                                             (len(x_validation[y_validation == 0]) / (len(x_validation)*1.))*100,\n",
    "                                                                            (len(x_validation[y_validation == 1]) / (len(x_validation)*1.))*100))\n",
    "print(\"Test set has total {0} entries with {1:.2f}% negative, {2:.2f}% positive\".format(len(x_test),\n",
    "                                                                             (len(x_test[y_test == 0]) / (len(x_test)*1.))*100,\n",
    "                                                                            (len(x_test[y_test == 1]) / (len(x_test)*1.))*100))"
   ]
  },
  {
   "cell_type": "code",
   "execution_count": 32,
   "metadata": {},
   "outputs": [
    {
     "name": "stderr",
     "output_type": "stream",
     "text": [
      "unable to import 'smart_open.gcs', disabling that module\n"
     ]
    }
   ],
   "source": [
    "from tqdm import tqdm\n",
    "tqdm.pandas(desc=\"progress-bar\")\n",
    "import gensim\n",
    "from gensim.models.word2vec import Word2Vec\n",
    "from gensim.models.doc2vec import TaggedDocument\n",
    "import multiprocessing\n",
    "from sklearn import utils"
   ]
  },
  {
   "cell_type": "code",
   "execution_count": 33,
   "metadata": {},
   "outputs": [],
   "source": [
    "def labelize_tweets_ug(tweets,label):\n",
    "    result = []\n",
    "    prefix = label\n",
    "    for i, t in zip(tweets.index, tweets):\n",
    "        result.append(TaggedDocument(t.split(), [prefix + '_%s' % i]))\n",
    "    return result"
   ]
  },
  {
   "cell_type": "code",
   "execution_count": 103,
   "metadata": {},
   "outputs": [],
   "source": [
    "from sklearn import preprocessing\n",
    "le = preprocessing.LabelEncoder()\n",
    "def EncodeLabel(df):\n",
    "    le.fit(df['Emotion'])\n",
    "    le_name_mapping = dict(zip(le.classes_, le.transform(le.classes_)))\n",
    "    df.Emotion = le.transform(df['Emotion'])\n",
    "    #print(df[:5])\n",
    "    #print(le_name_mapping)\n",
    "    \n",
    "    return df"
   ]
  },
  {
   "cell_type": "code",
   "execution_count": 104,
   "metadata": {},
   "outputs": [],
   "source": [
    "train_cleaned_encoded = EncodeLabel(train_cleaned)\n",
    "test_cleaned_encoded = EncodeLabel(test_cleaned)\n",
    "valid_cleaned_encoded = EncodeLabel(valid_cleaned)"
   ]
  },
  {
   "cell_type": "code",
   "execution_count": 105,
   "metadata": {},
   "outputs": [],
   "source": [
    "x_train = train_cleaned_encoded.Sentence\n",
    "y_train = train_cleaned_encoded.Emotion\n",
    "x_test = test_cleaned_encoded.Sentence\n",
    "y_test = test_cleaned_encoded.Emotion\n",
    "x_validation = valid_cleaned_encoded.Sentence\n",
    "y_validation = valid_cleaned_encoded.Emotion"
   ]
  },
  {
   "cell_type": "code",
   "execution_count": 106,
   "metadata": {},
   "outputs": [],
   "source": [
    "all_x = pd.concat([x_train,x_validation,x_test])\n",
    "all_x_w2v = labelize_tweets_ug(all_x, 'all')"
   ]
  },
  {
   "cell_type": "code",
   "execution_count": 107,
   "metadata": {},
   "outputs": [
    {
     "name": "stderr",
     "output_type": "stream",
     "text": [
      "100%|██████████████████████████████████████████████████████████████████████████| 6927/6927 [00:00<00:00, 871522.45it/s]\n"
     ]
    }
   ],
   "source": [
    "cores = multiprocessing.cpu_count()\n",
    "model_ug_cbow = Word2Vec(sg=0, size=5, negative=5, window=2, min_count=2, workers=cores, alpha=0.065, min_alpha=0.065)\n",
    "model_ug_cbow.build_vocab([x.words for x in tqdm(all_x_w2v)])"
   ]
  },
  {
   "cell_type": "code",
   "execution_count": 108,
   "metadata": {},
   "outputs": [
    {
     "name": "stderr",
     "output_type": "stream",
     "text": [
      "100%|██████████████████████████████████████████████████████████████████████████| 6927/6927 [00:00<00:00, 695586.29it/s]\n",
      "100%|██████████████████████████████████████████████████████████████████████████| 6927/6927 [00:00<00:00, 991060.98it/s]\n",
      "100%|██████████████████████████████████████████████████████████████████████████| 6927/6927 [00:00<00:00, 920885.70it/s]\n",
      "100%|█████████████████████████████████████████████████████████████████████████| 6927/6927 [00:00<00:00, 1204558.20it/s]\n",
      "100%|██████████████████████████████████████████████████████████████████████████| 6927/6927 [00:00<00:00, 811925.55it/s]\n",
      "100%|██████████████████████████████████████████████████████████████████████████| 6927/6927 [00:00<00:00, 948019.18it/s]\n",
      "100%|█████████████████████████████████████████████████████████████████████████| 6927/6927 [00:00<00:00, 1242736.81it/s]\n",
      "100%|██████████████████████████████████████████████████████████████████████████| 6927/6927 [00:00<00:00, 817361.84it/s]\n",
      "100%|█████████████████████████████████████████████████████████████████████████| 6927/6927 [00:00<00:00, 1613032.63it/s]\n",
      "100%|██████████████████████████████████████████████████████████████████████████| 6927/6927 [00:00<00:00, 795627.89it/s]\n",
      "100%|█████████████████████████████████████████████████████████████████████████| 6927/6927 [00:00<00:00, 1454588.16it/s]\n",
      "100%|█████████████████████████████████████████████████████████████████████████| 6927/6927 [00:00<00:00, 1142506.64it/s]\n",
      "100%|█████████████████████████████████████████████████████████████████████████| 6927/6927 [00:00<00:00, 1053175.18it/s]\n",
      "100%|█████████████████████████████████████████████████████████████████████████| 6927/6927 [00:00<00:00, 1999032.88it/s]\n",
      "100%|██████████████████████████████████████████████████████████████████████████| 6927/6927 [00:00<00:00, 879223.60it/s]\n",
      "100%|█████████████████████████████████████████████████████████████████████████| 6927/6927 [00:00<00:00, 1120216.83it/s]\n",
      "100%|█████████████████████████████████████████████████████████████████████████| 6927/6927 [00:00<00:00, 3282931.50it/s]\n",
      "100%|██████████████████████████████████████████████████████████████████████████| 6927/6927 [00:00<00:00, 779469.44it/s]\n",
      "100%|█████████████████████████████████████████████████████████████████████████| 6927/6927 [00:00<00:00, 1423933.73it/s]\n",
      "100%|██████████████████████████████████████████████████████████████████████████| 6927/6927 [00:00<00:00, 752985.46it/s]\n",
      "100%|██████████████████████████████████████████████████████████████████████████| 6927/6927 [00:00<00:00, 885953.03it/s]\n",
      "100%|██████████████████████████████████████████████████████████████████████████| 6927/6927 [00:00<00:00, 869644.22it/s]\n",
      "100%|█████████████████████████████████████████████████████████████████████████| 6927/6927 [00:00<00:00, 1255735.13it/s]\n",
      "100%|██████████████████████████████████████████████████████████████████████████| 6927/6927 [00:00<00:00, 761950.74it/s]\n",
      "100%|██████████████████████████████████████████████████████████████████████████| 6927/6927 [00:00<00:00, 737934.16it/s]\n",
      "100%|██████████████████████████████████████████████████████████████████████████| 6927/6927 [00:00<00:00, 821614.84it/s]\n",
      "100%|██████████████████████████████████████████████████████████████████████████| 6927/6927 [00:00<00:00, 870477.99it/s]\n",
      "100%|██████████████████████████████████████████████████████████████████████████| 6927/6927 [00:00<00:00, 825372.68it/s]\n",
      "100%|██████████████████████████████████████████████████████████████████████████| 6927/6927 [00:00<00:00, 780369.69it/s]\n",
      "100%|██████████████████████████████████████████████████████████████████████████| 6927/6927 [00:00<00:00, 711078.19it/s]\n"
     ]
    },
    {
     "name": "stdout",
     "output_type": "stream",
     "text": [
      "Wall time: 3.43 s\n"
     ]
    }
   ],
   "source": [
    "%%time\n",
    "for epoch in range(30):\n",
    "    model_ug_cbow.train(utils.shuffle([x.words for x in tqdm(all_x_w2v)]), total_examples=len(all_x_w2v), epochs=1)\n",
    "    model_ug_cbow.alpha -= 0.002\n",
    "    model_ug_cbow.min_alpha = model_ug_cbow.alpha"
   ]
  },
  {
   "cell_type": "code",
   "execution_count": 109,
   "metadata": {},
   "outputs": [
    {
     "name": "stderr",
     "output_type": "stream",
     "text": [
      "100%|██████████████████████████████████████████████████████████████████████████| 6927/6927 [00:00<00:00, 787476.46it/s]\n"
     ]
    }
   ],
   "source": [
    "model_ug_sg = Word2Vec(sg=1, size=5, negative=5, window=2, min_count=2, workers=cores, alpha=0.065, min_alpha=0.065)\n",
    "model_ug_sg.build_vocab([x.words for x in tqdm(all_x_w2v)])"
   ]
  },
  {
   "cell_type": "code",
   "execution_count": 110,
   "metadata": {},
   "outputs": [
    {
     "name": "stderr",
     "output_type": "stream",
     "text": [
      "100%|██████████████████████████████████████████████████████████████████████████| 6927/6927 [00:00<00:00, 973494.52it/s]\n",
      "100%|█████████████████████████████████████████████████████████████████████████| 6927/6927 [00:00<00:00, 1188203.17it/s]\n",
      "100%|█████████████████████████████████████████████████████████████████████████| 6927/6927 [00:00<00:00, 1170161.66it/s]\n",
      "100%|██████████████████████████████████████████████████████████████████████████| 6927/6927 [00:00<00:00, 924431.06it/s]\n",
      "100%|█████████████████████████████████████████████████████████████████████████| 6927/6927 [00:00<00:00, 1531815.46it/s]\n",
      "100%|██████████████████████████████████████████████████████████████████████████| 6927/6927 [00:00<00:00, 910839.04it/s]\n",
      "100%|██████████████████████████████████████████████████████████████████████████| 6927/6927 [00:00<00:00, 993263.27it/s]\n",
      "100%|█████████████████████████████████████████████████████████████████████████| 6927/6927 [00:00<00:00, 1251731.67it/s]\n",
      "100%|█████████████████████████████████████████████████████████████████████████| 6927/6927 [00:00<00:00, 1438314.05it/s]\n",
      "100%|██████████████████████████████████████████████████████████████████████████| 6927/6927 [00:00<00:00, 806897.10it/s]\n",
      "100%|█████████████████████████████████████████████████████████████████████████| 6927/6927 [00:00<00:00, 1077149.14it/s]\n",
      "100%|██████████████████████████████████████████████████████████████████████████| 6927/6927 [00:00<00:00, 795344.75it/s]\n",
      "100%|██████████████████████████████████████████████████████████████████████████| 6927/6927 [00:00<00:00, 716832.64it/s]\n",
      "100%|█████████████████████████████████████████████████████████████████████████| 6927/6927 [00:00<00:00, 1040912.29it/s]\n",
      "100%|██████████████████████████████████████████████████████████████████████████| 6927/6927 [00:00<00:00, 894050.03it/s]\n",
      "100%|█████████████████████████████████████████████████████████████████████████| 6927/6927 [00:00<00:00, 1043829.27it/s]\n",
      "100%|█████████████████████████████████████████████████████████████████████████| 6927/6927 [00:00<00:00, 1350027.59it/s]\n",
      "100%|█████████████████████████████████████████████████████████████████████████| 6927/6927 [00:00<00:00, 1109225.51it/s]\n",
      "100%|█████████████████████████████████████████████████████████████████████████| 6927/6927 [00:00<00:00, 1058547.16it/s]\n",
      "100%|█████████████████████████████████████████████████████████████████████████| 6927/6927 [00:00<00:00, 1314182.37it/s]\n",
      "100%|█████████████████████████████████████████████████████████████████████████| 6927/6927 [00:00<00:00, 1457945.80it/s]\n",
      "100%|█████████████████████████████████████████████████████████████████████████| 6927/6927 [00:00<00:00, 1089713.59it/s]\n",
      "100%|█████████████████████████████████████████████████████████████████████████| 6927/6927 [00:00<00:00, 1263379.74it/s]\n",
      "100%|██████████████████████████████████████████████████████████████████████████| 6927/6927 [00:00<00:00, 998966.57it/s]\n",
      "100%|█████████████████████████████████████████████████████████████████████████| 6927/6927 [00:00<00:00, 1236022.45it/s]\n",
      "100%|██████████████████████████████████████████████████████████████████████████| 6927/6927 [00:00<00:00, 826382.16it/s]\n",
      "100%|██████████████████████████████████████████████████████████████████████████| 6927/6927 [00:00<00:00, 754021.17it/s]\n",
      "100%|█████████████████████████████████████████████████████████████████████████| 6927/6927 [00:00<00:00, 1247378.66it/s]\n",
      "100%|██████████████████████████████████████████████████████████████████████████| 6927/6927 [00:00<00:00, 991466.82it/s]\n",
      "100%|█████████████████████████████████████████████████████████████████████████| 6927/6927 [00:00<00:00, 1116643.37it/s]\n"
     ]
    }
   ],
   "source": [
    "for epoch in range(30):\n",
    "    model_ug_sg.train(utils.shuffle([x.words for x in tqdm(all_x_w2v)]), total_examples=len(all_x_w2v), epochs=1)\n",
    "    model_ug_sg.alpha -= 0.002\n",
    "    model_ug_sg.min_alpha = model_ug_sg.alpha"
   ]
  },
  {
   "cell_type": "code",
   "execution_count": 111,
   "metadata": {},
   "outputs": [],
   "source": [
    "model_ug_cbow.save('./src/output/w2v_model_ug_cbow.word2vec')\n",
    "model_ug_sg.save('./src/output/w2v_model_ug_sg.word2vec')"
   ]
  },
  {
   "cell_type": "code",
   "execution_count": 112,
   "metadata": {},
   "outputs": [],
   "source": [
    "from gensim.models import KeyedVectors\n",
    "model_ug_cbow = KeyedVectors.load('./src/output/w2v_model_ug_cbow.word2vec')\n",
    "model_ug_sg = KeyedVectors.load('./src/output/w2v_model_ug_sg.word2vec')"
   ]
  },
  {
   "cell_type": "code",
   "execution_count": 113,
   "metadata": {},
   "outputs": [
    {
     "data": {
      "text/plain": [
       "2972"
      ]
     },
     "execution_count": 113,
     "metadata": {},
     "output_type": "execute_result"
    }
   ],
   "source": [
    "len(model_ug_cbow.wv.vocab.keys())\n"
   ]
  },
  {
   "cell_type": "code",
   "execution_count": 161,
   "metadata": {},
   "outputs": [
    {
     "name": "stdout",
     "output_type": "stream",
     "text": [
      "Found 2972 word vectors.\n"
     ]
    }
   ],
   "source": [
    "embeddings_index = {}\n",
    "for w in model_ug_cbow.wv.vocab.keys():\n",
    "    embeddings_index[w] = np.append(model_ug_cbow.wv[w],model_ug_sg.wv[w])\n",
    "print('Found %s word vectors.' % len(embeddings_index))"
   ]
  },
  {
   "cell_type": "code",
   "execution_count": 176,
   "metadata": {},
   "outputs": [],
   "source": [
    "from keras.preprocessing.text import Tokenizer\n",
    "from keras.preprocessing.sequence import pad_sequences\n",
    "\n",
    "tokenizer = Tokenizer(num_words=3000)\n",
    "tokenizer.fit_on_texts(x_train)\n",
    "sequences = tokenizer.texts_to_sequences(x_train)"
   ]
  },
  {
   "cell_type": "code",
   "execution_count": 177,
   "metadata": {},
   "outputs": [
    {
     "data": {
      "text/plain": [
       "4130"
      ]
     },
     "execution_count": 177,
     "metadata": {},
     "output_type": "execute_result"
    }
   ],
   "source": [
    "len(tokenizer.word_index)"
   ]
  },
  {
   "cell_type": "code",
   "execution_count": 178,
   "metadata": {},
   "outputs": [
    {
     "name": "stdout",
     "output_type": "stream",
     "text": [
      "cho mình xin bài nhạc tên là gì với ạ\n",
      "cho đáng đời con quỷ  về nhà lôi con nhà mày ra mà đánh :pouting_face:\n",
      "lo học đi  yêu đương lồn gì hay lại thích học sinh học\n",
      "uớc gì sau này về già vẫn có thể như cụ này :slightly_smiling_face:\n",
      "mỗi lần có video của con là cứ coi đi coi lại hoài  cưng con quá \n"
     ]
    }
   ],
   "source": [
    "for x in x_train[:5]:\n",
    "    print(x)"
   ]
  },
  {
   "cell_type": "code",
   "execution_count": 179,
   "metadata": {},
   "outputs": [
    {
     "data": {
      "text/plain": [
       "[[17, 27, 296, 226, 536, 499, 4, 21, 57, 264],\n",
       " [17, 132, 153, 14, 1022, 89, 52, 2144, 14, 52, 28, 29, 7, 284, 774, 1],\n",
       " [500, 98, 11, 38, 1023, 146, 21, 53, 24, 129, 98, 218, 98],\n",
       " [2740, 21, 145, 9, 89, 372, 91, 5, 151, 22, 335, 9, 8, 6, 1],\n",
       " [209, 103, 5, 245, 32, 14, 4, 117, 200, 11, 200, 24, 864, 311, 14, 25]]"
      ]
     },
     "execution_count": 179,
     "metadata": {},
     "output_type": "execute_result"
    }
   ],
   "source": [
    "sequences[:5]"
   ]
  },
  {
   "cell_type": "code",
   "execution_count": 180,
   "metadata": {},
   "outputs": [],
   "source": [
    "length = []\n",
    "for x in x_train:\n",
    "    length.append(len(x.split()))"
   ]
  },
  {
   "cell_type": "code",
   "execution_count": 181,
   "metadata": {},
   "outputs": [
    {
     "data": {
      "text/plain": [
       "161"
      ]
     },
     "execution_count": 181,
     "metadata": {},
     "output_type": "execute_result"
    }
   ],
   "source": [
    "max(length)"
   ]
  },
  {
   "cell_type": "code",
   "execution_count": 182,
   "metadata": {},
   "outputs": [
    {
     "name": "stdout",
     "output_type": "stream",
     "text": [
      "Shape of data tensor: (5548, 161)\n"
     ]
    }
   ],
   "source": [
    "x_train_seq = pad_sequences(sequences, maxlen=161)\n",
    "print('Shape of data tensor:', x_train_seq.shape)"
   ]
  },
  {
   "cell_type": "code",
   "execution_count": 183,
   "metadata": {},
   "outputs": [
    {
     "data": {
      "text/plain": [
       "array([[   0,    0,    0,    0,    0,    0,    0,    0,    0,    0,    0,\n",
       "           0,    0,    0,    0,    0,    0,    0,    0,    0,    0,    0,\n",
       "           0,    0,    0,    0,    0,    0,    0,    0,    0,    0,    0,\n",
       "           0,    0,    0,    0,    0,    0,    0,    0,    0,    0,    0,\n",
       "           0,    0,    0,    0,    0,    0,    0,    0,    0,    0,    0,\n",
       "           0,    0,    0,    0,    0,    0,    0,    0,    0,    0,    0,\n",
       "           0,    0,    0,    0,    0,    0,    0,    0,    0,    0,    0,\n",
       "           0,    0,    0,    0,    0,    0,    0,    0,    0,    0,    0,\n",
       "           0,    0,    0,    0,    0,    0,    0,    0,    0,    0,    0,\n",
       "           0,    0,    0,    0,    0,    0,    0,    0,    0,    0,    0,\n",
       "           0,    0,    0,    0,    0,    0,    0,    0,    0,    0,    0,\n",
       "           0,    0,    0,    0,    0,    0,    0,    0,    0,    0,    0,\n",
       "           0,    0,    0,    0,    0,    0,    0,    0,    0,    0,    0,\n",
       "           0,    0,    0,    0,    0,    0,    0,    0,   17,   27,  296,\n",
       "         226,  536,  499,    4,   21,   57,  264],\n",
       "       [   0,    0,    0,    0,    0,    0,    0,    0,    0,    0,    0,\n",
       "           0,    0,    0,    0,    0,    0,    0,    0,    0,    0,    0,\n",
       "           0,    0,    0,    0,    0,    0,    0,    0,    0,    0,    0,\n",
       "           0,    0,    0,    0,    0,    0,    0,    0,    0,    0,    0,\n",
       "           0,    0,    0,    0,    0,    0,    0,    0,    0,    0,    0,\n",
       "           0,    0,    0,    0,    0,    0,    0,    0,    0,    0,    0,\n",
       "           0,    0,    0,    0,    0,    0,    0,    0,    0,    0,    0,\n",
       "           0,    0,    0,    0,    0,    0,    0,    0,    0,    0,    0,\n",
       "           0,    0,    0,    0,    0,    0,    0,    0,    0,    0,    0,\n",
       "           0,    0,    0,    0,    0,    0,    0,    0,    0,    0,    0,\n",
       "           0,    0,    0,    0,    0,    0,    0,    0,    0,    0,    0,\n",
       "           0,    0,    0,    0,    0,    0,    0,    0,    0,    0,    0,\n",
       "           0,    0,    0,    0,    0,    0,    0,    0,    0,    0,    0,\n",
       "           0,    0,   17,  132,  153,   14, 1022,   89,   52, 2144,   14,\n",
       "          52,   28,   29,    7,  284,  774,    1],\n",
       "       [   0,    0,    0,    0,    0,    0,    0,    0,    0,    0,    0,\n",
       "           0,    0,    0,    0,    0,    0,    0,    0,    0,    0,    0,\n",
       "           0,    0,    0,    0,    0,    0,    0,    0,    0,    0,    0,\n",
       "           0,    0,    0,    0,    0,    0,    0,    0,    0,    0,    0,\n",
       "           0,    0,    0,    0,    0,    0,    0,    0,    0,    0,    0,\n",
       "           0,    0,    0,    0,    0,    0,    0,    0,    0,    0,    0,\n",
       "           0,    0,    0,    0,    0,    0,    0,    0,    0,    0,    0,\n",
       "           0,    0,    0,    0,    0,    0,    0,    0,    0,    0,    0,\n",
       "           0,    0,    0,    0,    0,    0,    0,    0,    0,    0,    0,\n",
       "           0,    0,    0,    0,    0,    0,    0,    0,    0,    0,    0,\n",
       "           0,    0,    0,    0,    0,    0,    0,    0,    0,    0,    0,\n",
       "           0,    0,    0,    0,    0,    0,    0,    0,    0,    0,    0,\n",
       "           0,    0,    0,    0,    0,    0,    0,    0,    0,    0,    0,\n",
       "           0,    0,    0,    0,    0,  500,   98,   11,   38, 1023,  146,\n",
       "          21,   53,   24,  129,   98,  218,   98],\n",
       "       [   0,    0,    0,    0,    0,    0,    0,    0,    0,    0,    0,\n",
       "           0,    0,    0,    0,    0,    0,    0,    0,    0,    0,    0,\n",
       "           0,    0,    0,    0,    0,    0,    0,    0,    0,    0,    0,\n",
       "           0,    0,    0,    0,    0,    0,    0,    0,    0,    0,    0,\n",
       "           0,    0,    0,    0,    0,    0,    0,    0,    0,    0,    0,\n",
       "           0,    0,    0,    0,    0,    0,    0,    0,    0,    0,    0,\n",
       "           0,    0,    0,    0,    0,    0,    0,    0,    0,    0,    0,\n",
       "           0,    0,    0,    0,    0,    0,    0,    0,    0,    0,    0,\n",
       "           0,    0,    0,    0,    0,    0,    0,    0,    0,    0,    0,\n",
       "           0,    0,    0,    0,    0,    0,    0,    0,    0,    0,    0,\n",
       "           0,    0,    0,    0,    0,    0,    0,    0,    0,    0,    0,\n",
       "           0,    0,    0,    0,    0,    0,    0,    0,    0,    0,    0,\n",
       "           0,    0,    0,    0,    0,    0,    0,    0,    0,    0,    0,\n",
       "           0,    0,    0, 2740,   21,  145,    9,   89,  372,   91,    5,\n",
       "         151,   22,  335,    9,    8,    6,    1],\n",
       "       [   0,    0,    0,    0,    0,    0,    0,    0,    0,    0,    0,\n",
       "           0,    0,    0,    0,    0,    0,    0,    0,    0,    0,    0,\n",
       "           0,    0,    0,    0,    0,    0,    0,    0,    0,    0,    0,\n",
       "           0,    0,    0,    0,    0,    0,    0,    0,    0,    0,    0,\n",
       "           0,    0,    0,    0,    0,    0,    0,    0,    0,    0,    0,\n",
       "           0,    0,    0,    0,    0,    0,    0,    0,    0,    0,    0,\n",
       "           0,    0,    0,    0,    0,    0,    0,    0,    0,    0,    0,\n",
       "           0,    0,    0,    0,    0,    0,    0,    0,    0,    0,    0,\n",
       "           0,    0,    0,    0,    0,    0,    0,    0,    0,    0,    0,\n",
       "           0,    0,    0,    0,    0,    0,    0,    0,    0,    0,    0,\n",
       "           0,    0,    0,    0,    0,    0,    0,    0,    0,    0,    0,\n",
       "           0,    0,    0,    0,    0,    0,    0,    0,    0,    0,    0,\n",
       "           0,    0,    0,    0,    0,    0,    0,    0,    0,    0,    0,\n",
       "           0,    0,  209,  103,    5,  245,   32,   14,    4,  117,  200,\n",
       "          11,  200,   24,  864,  311,   14,   25]])"
      ]
     },
     "execution_count": 183,
     "metadata": {},
     "output_type": "execute_result"
    }
   ],
   "source": [
    "x_train_seq[:5]"
   ]
  },
  {
   "cell_type": "code",
   "execution_count": 184,
   "metadata": {},
   "outputs": [],
   "source": [
    "sequences_val = tokenizer.texts_to_sequences(x_validation)\n",
    "x_val_seq = pad_sequences(sequences_val, maxlen=161)"
   ]
  },
  {
   "cell_type": "code",
   "execution_count": 187,
   "metadata": {},
   "outputs": [],
   "source": [
    "num_words = 3000\n",
    "embedding_matrix = np.zeros((num_words, 10))\n",
    "for word, i in tokenizer.word_index.items():\n",
    "    if i >= num_words:\n",
    "        continue\n",
    "    embedding_vector = embeddings_index.get(word)\n",
    "    if embedding_vector is not None:\n",
    "        embedding_matrix[i] = embedding_vector"
   ]
  },
  {
   "cell_type": "code",
   "execution_count": 188,
   "metadata": {},
   "outputs": [
    {
     "data": {
      "text/plain": [
       "True"
      ]
     },
     "execution_count": 188,
     "metadata": {},
     "output_type": "execute_result"
    }
   ],
   "source": [
    "np.array_equal(embedding_matrix[17] ,embeddings_index.get('cho'))"
   ]
  },
  {
   "cell_type": "code",
   "execution_count": 189,
   "metadata": {},
   "outputs": [],
   "source": [
    "seed = 7\n",
    "\n",
    "from keras.models import Sequential\n",
    "from keras.layers import Dense, Dropout\n",
    "from keras.layers import Flatten,Conv1D,GlobalMaxPooling1D\n",
    "from keras.layers.embeddings import Embedding"
   ]
  },
  {
   "cell_type": "code",
   "execution_count": 233,
   "metadata": {},
   "outputs": [
    {
     "name": "stderr",
     "output_type": "stream",
     "text": [
      "c:\\python36\\lib\\site-packages\\tensorflow_core\\python\\framework\\indexed_slices.py:433: UserWarning: Converting sparse IndexedSlices to a dense Tensor of unknown shape. This may consume a large amount of memory.\n",
      "  \"Converting sparse IndexedSlices to a dense Tensor of unknown shape. \"\n"
     ]
    },
    {
     "name": "stdout",
     "output_type": "stream",
     "text": [
      "Train on 5548 samples, validate on 686 samples\n",
      "Epoch 1/5\n",
      " - 4s - loss: 1.7943 - accuracy: 0.2985 - val_loss: 1.6424 - val_accuracy: 0.4009\n",
      "Epoch 2/5\n",
      " - 4s - loss: 1.5359 - accuracy: 0.4463 - val_loss: 1.4515 - val_accuracy: 0.4679\n",
      "Epoch 3/5\n",
      " - 4s - loss: 1.2538 - accuracy: 0.5544 - val_loss: 1.3280 - val_accuracy: 0.5190\n",
      "Epoch 4/5\n",
      " - 4s - loss: 1.0341 - accuracy: 0.6339 - val_loss: 1.3105 - val_accuracy: 0.5423\n",
      "Epoch 5/5\n",
      " - 4s - loss: 0.8571 - accuracy: 0.7069 - val_loss: 1.3763 - val_accuracy: 0.5248\n"
     ]
    },
    {
     "data": {
      "text/plain": [
       "<keras.callbacks.callbacks.History at 0x20891e22f60>"
      ]
     },
     "execution_count": 233,
     "metadata": {},
     "output_type": "execute_result"
    }
   ],
   "source": [
    "model_ptw2v = Sequential()\n",
    "e = Embedding(3000, 10, input_length=161, trainable=True)\n",
    "model_ptw2v.add(e)\n",
    "#model_ptw2v.add(Flatten())\n",
    "model_ptw2v.add(Conv1D(256, 4, activation='relu'))\n",
    "#model_ptw2v.add(Conv1D(512, 3, activation='relu'))\n",
    "model_ptw2v.add(GlobalMaxPooling1D())\n",
    "\n",
    "#model_ptw2v.add(Dense(128, activation='relu', input_dim=161))\n",
    "#model_ptw2v.add(Dense(128, activation='relu'))\n",
    "model_ptw2v.add(Dense(64, activation='relu'))\n",
    "model_ptw2v.add(Dense(8, activation='softmax'))\n",
    "model_ptw2v.compile(loss='sparse_categorical_crossentropy', optimizer='adam', metrics=['accuracy'])\n",
    "model_ptw2v.fit(x_train_seq, y_train, validation_data=(x_val_seq, y_validation), epochs=5, batch_size=32, verbose=2)"
   ]
  },
  {
   "cell_type": "code",
   "execution_count": 232,
   "metadata": {},
   "outputs": [
    {
     "name": "stdout",
     "output_type": "stream",
     "text": [
      "[[   0    0    0 ...   21   57  264]\n",
      " [   0    0    0 ...  284  774    1]\n",
      " [   0    0    0 ...   98  218   98]\n",
      " ...\n",
      " [   0    0    0 ...  151  210   19]\n",
      " [   0    0    0 ...  736 1422    1]\n",
      " [   0    0    0 ...   27   81   74]]\n"
     ]
    }
   ],
   "source": [
    "print(x_train_seq[:10])"
   ]
  },
  {
   "cell_type": "code",
   "execution_count": null,
   "metadata": {},
   "outputs": [],
   "source": []
  }
 ],
 "metadata": {
  "kernelspec": {
   "display_name": "Python 3",
   "language": "python",
   "name": "python3"
  },
  "language_info": {
   "codemirror_mode": {
    "name": "ipython",
    "version": 3
   },
   "file_extension": ".py",
   "mimetype": "text/x-python",
   "name": "python",
   "nbconvert_exporter": "python",
   "pygments_lexer": "ipython3",
   "version": "3.6.2"
  }
 },
 "nbformat": 4,
 "nbformat_minor": 4
}
